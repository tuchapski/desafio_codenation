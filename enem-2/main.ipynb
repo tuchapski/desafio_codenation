{
 "cells": [
  {
   "cell_type": "code",
   "execution_count": 132,
   "metadata": {},
   "outputs": [],
   "source": [
    "import pandas as pd\n",
    "import numpy as np\n",
    "import matplotlib.pyplot as plt\n",
    "import seaborn as sns\n",
    "\n",
    "from sklearn.model_selection import train_test_split\n",
    "from sklearn.preprocessing import MinMaxScaler\n",
    "from sklearn.linear_model import LinearRegression"
   ]
  },
  {
   "cell_type": "code",
   "execution_count": 133,
   "metadata": {},
   "outputs": [],
   "source": [
    "#Carregar Datasets\n",
    "df = pd.read_csv('train.csv', index_col=0)\n",
    "df_test = pd.read_csv('test.csv', index_col=0)"
   ]
  },
  {
   "cell_type": "markdown",
   "metadata": {},
   "source": [
    "\n",
    "## Deixar as colunas iguais para datasets train e test "
   ]
  },
  {
   "cell_type": "code",
   "execution_count": 134,
   "metadata": {},
   "outputs": [],
   "source": [
    "df_test = df_test.reset_index()\n",
    "tran_column = df.columns\n",
    "test_column = df_test.columns\n",
    "\n",
    "y_column = df['NU_NOTA_MT']\n",
    "\n",
    "columns = list(set(tran_column) & set(test_column))\n",
    "\n",
    "df = df[columns]\n",
    "#Recolocando a coluna após correção das colunas dos datasets\n",
    "df['NU_NOTA_MT'] = y_column"
   ]
  },
  {
   "cell_type": "markdown",
   "metadata": {},
   "source": [
    "# PRÉ PROCESSAMENTO\n",
    "\n",
    "Removendo colunas com base nas informações do dicionário de Microdados ENEN_2016"
   ]
  },
  {
   "cell_type": "code",
   "execution_count": 135,
   "metadata": {},
   "outputs": [
    {
     "data": {
      "text/html": [
       "<div>\n",
       "<style scoped>\n",
       "    .dataframe tbody tr th:only-of-type {\n",
       "        vertical-align: middle;\n",
       "    }\n",
       "\n",
       "    .dataframe tbody tr th {\n",
       "        vertical-align: top;\n",
       "    }\n",
       "\n",
       "    .dataframe thead th {\n",
       "        text-align: right;\n",
       "    }\n",
       "</style>\n",
       "<table border=\"1\" class=\"dataframe\">\n",
       "  <thead>\n",
       "    <tr style=\"text-align: right;\">\n",
       "      <th></th>\n",
       "      <th>NU_NOTA_CN</th>\n",
       "      <th>TP_ESCOLA</th>\n",
       "      <th>IN_GESTANTE</th>\n",
       "      <th>TP_COR_RACA</th>\n",
       "      <th>TP_ST_CONCLUSAO</th>\n",
       "      <th>NU_IDADE</th>\n",
       "      <th>TP_LINGUA</th>\n",
       "      <th>CO_UF_RESIDENCIA</th>\n",
       "      <th>Q025</th>\n",
       "      <th>IN_DISLEXIA</th>\n",
       "      <th>...</th>\n",
       "      <th>IN_SURDEZ</th>\n",
       "      <th>Q001</th>\n",
       "      <th>NU_NOTA_COMP5</th>\n",
       "      <th>Q006</th>\n",
       "      <th>TP_SEXO</th>\n",
       "      <th>CO_PROVA_CN</th>\n",
       "      <th>IN_SABATISTA</th>\n",
       "      <th>NU_NOTA_COMP4</th>\n",
       "      <th>CO_PROVA_LC</th>\n",
       "      <th>NU_NOTA_MT</th>\n",
       "    </tr>\n",
       "  </thead>\n",
       "  <tbody>\n",
       "    <tr>\n",
       "      <th>1</th>\n",
       "      <td>436.3</td>\n",
       "      <td>1</td>\n",
       "      <td>0</td>\n",
       "      <td>1</td>\n",
       "      <td>1</td>\n",
       "      <td>24</td>\n",
       "      <td>1</td>\n",
       "      <td>43</td>\n",
       "      <td>A</td>\n",
       "      <td>0</td>\n",
       "      <td>...</td>\n",
       "      <td>0</td>\n",
       "      <td>D</td>\n",
       "      <td>80.0</td>\n",
       "      <td>C</td>\n",
       "      <td>M</td>\n",
       "      <td>16f84b7b3d2aeaff7d2f01297e6b3d0e25c77bb2</td>\n",
       "      <td>0</td>\n",
       "      <td>80.0</td>\n",
       "      <td>01af53cd161a420fff1767129c10de560cc264dd</td>\n",
       "      <td>399.4</td>\n",
       "    </tr>\n",
       "    <tr>\n",
       "      <th>2</th>\n",
       "      <td>474.5</td>\n",
       "      <td>2</td>\n",
       "      <td>0</td>\n",
       "      <td>3</td>\n",
       "      <td>2</td>\n",
       "      <td>17</td>\n",
       "      <td>1</td>\n",
       "      <td>23</td>\n",
       "      <td>A</td>\n",
       "      <td>0</td>\n",
       "      <td>...</td>\n",
       "      <td>0</td>\n",
       "      <td>A</td>\n",
       "      <td>80.0</td>\n",
       "      <td>B</td>\n",
       "      <td>F</td>\n",
       "      <td>b9b06ce8c319a3df2158ea3d0aef0f7d3eecaed7</td>\n",
       "      <td>0</td>\n",
       "      <td>120.0</td>\n",
       "      <td>01af53cd161a420fff1767129c10de560cc264dd</td>\n",
       "      <td>459.8</td>\n",
       "    </tr>\n",
       "    <tr>\n",
       "      <th>3</th>\n",
       "      <td>NaN</td>\n",
       "      <td>1</td>\n",
       "      <td>0</td>\n",
       "      <td>3</td>\n",
       "      <td>3</td>\n",
       "      <td>21</td>\n",
       "      <td>1</td>\n",
       "      <td>23</td>\n",
       "      <td>A</td>\n",
       "      <td>0</td>\n",
       "      <td>...</td>\n",
       "      <td>0</td>\n",
       "      <td>D</td>\n",
       "      <td>NaN</td>\n",
       "      <td>C</td>\n",
       "      <td>F</td>\n",
       "      <td>2d22ac1d42e6187f09ee6c578df187a760123ccf</td>\n",
       "      <td>0</td>\n",
       "      <td>NaN</td>\n",
       "      <td>2d22ac1d42e6187f09ee6c578df187a760123ccf</td>\n",
       "      <td>NaN</td>\n",
       "    </tr>\n",
       "    <tr>\n",
       "      <th>4</th>\n",
       "      <td>NaN</td>\n",
       "      <td>1</td>\n",
       "      <td>0</td>\n",
       "      <td>0</td>\n",
       "      <td>1</td>\n",
       "      <td>25</td>\n",
       "      <td>0</td>\n",
       "      <td>33</td>\n",
       "      <td>B</td>\n",
       "      <td>0</td>\n",
       "      <td>...</td>\n",
       "      <td>0</td>\n",
       "      <td>H</td>\n",
       "      <td>NaN</td>\n",
       "      <td>E</td>\n",
       "      <td>F</td>\n",
       "      <td>2d22ac1d42e6187f09ee6c578df187a760123ccf</td>\n",
       "      <td>0</td>\n",
       "      <td>NaN</td>\n",
       "      <td>2d22ac1d42e6187f09ee6c578df187a760123ccf</td>\n",
       "      <td>NaN</td>\n",
       "    </tr>\n",
       "    <tr>\n",
       "      <th>5</th>\n",
       "      <td>NaN</td>\n",
       "      <td>1</td>\n",
       "      <td>0</td>\n",
       "      <td>2</td>\n",
       "      <td>1</td>\n",
       "      <td>28</td>\n",
       "      <td>1</td>\n",
       "      <td>13</td>\n",
       "      <td>A</td>\n",
       "      <td>0</td>\n",
       "      <td>...</td>\n",
       "      <td>0</td>\n",
       "      <td>E</td>\n",
       "      <td>NaN</td>\n",
       "      <td>C</td>\n",
       "      <td>M</td>\n",
       "      <td>2d22ac1d42e6187f09ee6c578df187a760123ccf</td>\n",
       "      <td>0</td>\n",
       "      <td>NaN</td>\n",
       "      <td>2d22ac1d42e6187f09ee6c578df187a760123ccf</td>\n",
       "      <td>NaN</td>\n",
       "    </tr>\n",
       "  </tbody>\n",
       "</table>\n",
       "<p>5 rows × 48 columns</p>\n",
       "</div>"
      ],
      "text/plain": [
       "   NU_NOTA_CN  TP_ESCOLA  IN_GESTANTE  TP_COR_RACA  TP_ST_CONCLUSAO  NU_IDADE  \\\n",
       "1       436.3          1            0            1                1        24   \n",
       "2       474.5          2            0            3                2        17   \n",
       "3         NaN          1            0            3                3        21   \n",
       "4         NaN          1            0            0                1        25   \n",
       "5         NaN          1            0            2                1        28   \n",
       "\n",
       "   TP_LINGUA  CO_UF_RESIDENCIA Q025  IN_DISLEXIA  ...  IN_SURDEZ  Q001  \\\n",
       "1          1                43    A            0  ...          0     D   \n",
       "2          1                23    A            0  ...          0     A   \n",
       "3          1                23    A            0  ...          0     D   \n",
       "4          0                33    B            0  ...          0     H   \n",
       "5          1                13    A            0  ...          0     E   \n",
       "\n",
       "   NU_NOTA_COMP5  Q006  TP_SEXO                               CO_PROVA_CN  \\\n",
       "1           80.0     C        M  16f84b7b3d2aeaff7d2f01297e6b3d0e25c77bb2   \n",
       "2           80.0     B        F  b9b06ce8c319a3df2158ea3d0aef0f7d3eecaed7   \n",
       "3            NaN     C        F  2d22ac1d42e6187f09ee6c578df187a760123ccf   \n",
       "4            NaN     E        F  2d22ac1d42e6187f09ee6c578df187a760123ccf   \n",
       "5            NaN     C        M  2d22ac1d42e6187f09ee6c578df187a760123ccf   \n",
       "\n",
       "   IN_SABATISTA NU_NOTA_COMP4                               CO_PROVA_LC  \\\n",
       "1             0          80.0  01af53cd161a420fff1767129c10de560cc264dd   \n",
       "2             0         120.0  01af53cd161a420fff1767129c10de560cc264dd   \n",
       "3             0           NaN  2d22ac1d42e6187f09ee6c578df187a760123ccf   \n",
       "4             0           NaN  2d22ac1d42e6187f09ee6c578df187a760123ccf   \n",
       "5             0           NaN  2d22ac1d42e6187f09ee6c578df187a760123ccf   \n",
       "\n",
       "  NU_NOTA_MT  \n",
       "1      399.4  \n",
       "2      459.8  \n",
       "3        NaN  \n",
       "4        NaN  \n",
       "5        NaN  \n",
       "\n",
       "[5 rows x 48 columns]"
      ]
     },
     "execution_count": 135,
     "metadata": {},
     "output_type": "execute_result"
    }
   ],
   "source": [
    "df.head()"
   ]
  },
  {
   "cell_type": "code",
   "execution_count": 136,
   "metadata": {},
   "outputs": [],
   "source": [
    "try:\n",
    "    df = df.drop(['CO_PROVA_CH', 'CO_PROVA_CN', 'CO_PROVA_LC', \n",
    "                  'CO_UF_RESIDENCIA', 'IN_BAIXA_VISAO', 'IN_CEGUEIRA',\n",
    "                  'IN_DISCALCULIA', 'IN_DISLEXIA', 'IN_GESTANTE',\n",
    "                  'IN_IDOSO', 'IN_SABATISTA', 'IN_SURDEZ',\n",
    "                  'TP_LINGUA', 'NU_INSCRICAO'\n",
    "                 ], axis=1)\n",
    "except:\n",
    "    pass"
   ]
  },
  {
   "cell_type": "code",
   "execution_count": 137,
   "metadata": {},
   "outputs": [
    {
     "name": "stdout",
     "output_type": "stream",
     "text": [
      "<class 'pandas.core.frame.DataFrame'>\n",
      "Int64Index: 13730 entries, 1 to 4586\n",
      "Data columns (total 34 columns):\n",
      " #   Column                  Non-Null Count  Dtype  \n",
      "---  ------                  --------------  -----  \n",
      " 0   NU_NOTA_CN              10341 non-null  float64\n",
      " 1   TP_ESCOLA               13730 non-null  int64  \n",
      " 2   TP_COR_RACA             13730 non-null  int64  \n",
      " 3   TP_ST_CONCLUSAO         13730 non-null  int64  \n",
      " 4   NU_IDADE                13730 non-null  int64  \n",
      " 5   Q025                    13730 non-null  object \n",
      " 6   NU_NOTA_COMP2           10133 non-null  float64\n",
      " 7   TP_ANO_CONCLUIU         13730 non-null  int64  \n",
      " 8   TP_PRESENCA_LC          13730 non-null  int64  \n",
      " 9   TP_PRESENCA_CH          13730 non-null  int64  \n",
      " 10  Q027                    6357 non-null   object \n",
      " 11  TP_ENSINO               4282 non-null   float64\n",
      " 12  SG_UF_RESIDENCIA        13730 non-null  object \n",
      " 13  NU_NOTA_COMP3           10133 non-null  float64\n",
      " 14  NU_NOTA_LC              10133 non-null  float64\n",
      " 15  Q002                    13730 non-null  object \n",
      " 16  TP_NACIONALIDADE        13730 non-null  int64  \n",
      " 17  IN_TREINEIRO            13730 non-null  int64  \n",
      " 18  TP_STATUS_REDACAO       10133 non-null  float64\n",
      " 19  CO_PROVA_MT             13730 non-null  object \n",
      " 20  NU_NOTA_COMP1           10133 non-null  float64\n",
      " 21  NU_NOTA_CH              10341 non-null  float64\n",
      " 22  NU_NOTA_REDACAO         10133 non-null  float64\n",
      " 23  Q047                    13730 non-null  object \n",
      " 24  TP_DEPENDENCIA_ADM_ESC  4282 non-null   float64\n",
      " 25  TP_PRESENCA_CN          13730 non-null  int64  \n",
      " 26  Q026                    13730 non-null  object \n",
      " 27  Q024                    13730 non-null  object \n",
      " 28  Q001                    13730 non-null  object \n",
      " 29  NU_NOTA_COMP5           10133 non-null  float64\n",
      " 30  Q006                    13730 non-null  object \n",
      " 31  TP_SEXO                 13730 non-null  object \n",
      " 32  NU_NOTA_COMP4           10133 non-null  float64\n",
      " 33  NU_NOTA_MT              10133 non-null  float64\n",
      "dtypes: float64(13), int64(10), object(11)\n",
      "memory usage: 3.7+ MB\n"
     ]
    }
   ],
   "source": [
    "df.info()"
   ]
  },
  {
   "cell_type": "code",
   "execution_count": 138,
   "metadata": {},
   "outputs": [
    {
     "data": {
      "text/html": [
       "<div>\n",
       "<style scoped>\n",
       "    .dataframe tbody tr th:only-of-type {\n",
       "        vertical-align: middle;\n",
       "    }\n",
       "\n",
       "    .dataframe tbody tr th {\n",
       "        vertical-align: top;\n",
       "    }\n",
       "\n",
       "    .dataframe thead th {\n",
       "        text-align: right;\n",
       "    }\n",
       "</style>\n",
       "<table border=\"1\" class=\"dataframe\">\n",
       "  <thead>\n",
       "    <tr style=\"text-align: right;\">\n",
       "      <th></th>\n",
       "      <th>colunas</th>\n",
       "      <th>tipos</th>\n",
       "      <th>percent_faltante</th>\n",
       "      <th>uniques</th>\n",
       "    </tr>\n",
       "  </thead>\n",
       "  <tbody>\n",
       "    <tr>\n",
       "      <th>NU_NOTA_CN</th>\n",
       "      <td>NU_NOTA_CN</td>\n",
       "      <td>float64</td>\n",
       "      <td>0.246832</td>\n",
       "      <td>2692</td>\n",
       "    </tr>\n",
       "    <tr>\n",
       "      <th>TP_ESCOLA</th>\n",
       "      <td>TP_ESCOLA</td>\n",
       "      <td>int64</td>\n",
       "      <td>0.000000</td>\n",
       "      <td>4</td>\n",
       "    </tr>\n",
       "    <tr>\n",
       "      <th>TP_COR_RACA</th>\n",
       "      <td>TP_COR_RACA</td>\n",
       "      <td>int64</td>\n",
       "      <td>0.000000</td>\n",
       "      <td>6</td>\n",
       "    </tr>\n",
       "    <tr>\n",
       "      <th>TP_ST_CONCLUSAO</th>\n",
       "      <td>TP_ST_CONCLUSAO</td>\n",
       "      <td>int64</td>\n",
       "      <td>0.000000</td>\n",
       "      <td>4</td>\n",
       "    </tr>\n",
       "    <tr>\n",
       "      <th>NU_IDADE</th>\n",
       "      <td>NU_IDADE</td>\n",
       "      <td>int64</td>\n",
       "      <td>0.000000</td>\n",
       "      <td>55</td>\n",
       "    </tr>\n",
       "    <tr>\n",
       "      <th>Q025</th>\n",
       "      <td>Q025</td>\n",
       "      <td>object</td>\n",
       "      <td>0.000000</td>\n",
       "      <td>2</td>\n",
       "    </tr>\n",
       "    <tr>\n",
       "      <th>NU_NOTA_COMP2</th>\n",
       "      <td>NU_NOTA_COMP2</td>\n",
       "      <td>float64</td>\n",
       "      <td>0.261981</td>\n",
       "      <td>13</td>\n",
       "    </tr>\n",
       "    <tr>\n",
       "      <th>TP_ANO_CONCLUIU</th>\n",
       "      <td>TP_ANO_CONCLUIU</td>\n",
       "      <td>int64</td>\n",
       "      <td>0.000000</td>\n",
       "      <td>11</td>\n",
       "    </tr>\n",
       "    <tr>\n",
       "      <th>TP_PRESENCA_LC</th>\n",
       "      <td>TP_PRESENCA_LC</td>\n",
       "      <td>int64</td>\n",
       "      <td>0.000000</td>\n",
       "      <td>3</td>\n",
       "    </tr>\n",
       "    <tr>\n",
       "      <th>TP_PRESENCA_CH</th>\n",
       "      <td>TP_PRESENCA_CH</td>\n",
       "      <td>int64</td>\n",
       "      <td>0.000000</td>\n",
       "      <td>3</td>\n",
       "    </tr>\n",
       "    <tr>\n",
       "      <th>Q027</th>\n",
       "      <td>Q027</td>\n",
       "      <td>object</td>\n",
       "      <td>0.536999</td>\n",
       "      <td>13</td>\n",
       "    </tr>\n",
       "    <tr>\n",
       "      <th>TP_ENSINO</th>\n",
       "      <td>TP_ENSINO</td>\n",
       "      <td>float64</td>\n",
       "      <td>0.688128</td>\n",
       "      <td>3</td>\n",
       "    </tr>\n",
       "    <tr>\n",
       "      <th>SG_UF_RESIDENCIA</th>\n",
       "      <td>SG_UF_RESIDENCIA</td>\n",
       "      <td>object</td>\n",
       "      <td>0.000000</td>\n",
       "      <td>27</td>\n",
       "    </tr>\n",
       "    <tr>\n",
       "      <th>NU_NOTA_COMP3</th>\n",
       "      <td>NU_NOTA_COMP3</td>\n",
       "      <td>float64</td>\n",
       "      <td>0.261981</td>\n",
       "      <td>12</td>\n",
       "    </tr>\n",
       "    <tr>\n",
       "      <th>NU_NOTA_LC</th>\n",
       "      <td>NU_NOTA_LC</td>\n",
       "      <td>float64</td>\n",
       "      <td>0.261981</td>\n",
       "      <td>2774</td>\n",
       "    </tr>\n",
       "    <tr>\n",
       "      <th>Q002</th>\n",
       "      <td>Q002</td>\n",
       "      <td>object</td>\n",
       "      <td>0.000000</td>\n",
       "      <td>8</td>\n",
       "    </tr>\n",
       "    <tr>\n",
       "      <th>TP_NACIONALIDADE</th>\n",
       "      <td>TP_NACIONALIDADE</td>\n",
       "      <td>int64</td>\n",
       "      <td>0.000000</td>\n",
       "      <td>5</td>\n",
       "    </tr>\n",
       "    <tr>\n",
       "      <th>IN_TREINEIRO</th>\n",
       "      <td>IN_TREINEIRO</td>\n",
       "      <td>int64</td>\n",
       "      <td>0.000000</td>\n",
       "      <td>2</td>\n",
       "    </tr>\n",
       "    <tr>\n",
       "      <th>TP_STATUS_REDACAO</th>\n",
       "      <td>TP_STATUS_REDACAO</td>\n",
       "      <td>float64</td>\n",
       "      <td>0.261981</td>\n",
       "      <td>9</td>\n",
       "    </tr>\n",
       "    <tr>\n",
       "      <th>CO_PROVA_MT</th>\n",
       "      <td>CO_PROVA_MT</td>\n",
       "      <td>object</td>\n",
       "      <td>0.000000</td>\n",
       "      <td>9</td>\n",
       "    </tr>\n",
       "    <tr>\n",
       "      <th>NU_NOTA_COMP1</th>\n",
       "      <td>NU_NOTA_COMP1</td>\n",
       "      <td>float64</td>\n",
       "      <td>0.261981</td>\n",
       "      <td>15</td>\n",
       "    </tr>\n",
       "    <tr>\n",
       "      <th>NU_NOTA_CH</th>\n",
       "      <td>NU_NOTA_CH</td>\n",
       "      <td>float64</td>\n",
       "      <td>0.246832</td>\n",
       "      <td>2978</td>\n",
       "    </tr>\n",
       "    <tr>\n",
       "      <th>NU_NOTA_REDACAO</th>\n",
       "      <td>NU_NOTA_REDACAO</td>\n",
       "      <td>float64</td>\n",
       "      <td>0.261981</td>\n",
       "      <td>53</td>\n",
       "    </tr>\n",
       "    <tr>\n",
       "      <th>Q047</th>\n",
       "      <td>Q047</td>\n",
       "      <td>object</td>\n",
       "      <td>0.000000</td>\n",
       "      <td>5</td>\n",
       "    </tr>\n",
       "    <tr>\n",
       "      <th>TP_DEPENDENCIA_ADM_ESC</th>\n",
       "      <td>TP_DEPENDENCIA_ADM_ESC</td>\n",
       "      <td>float64</td>\n",
       "      <td>0.688128</td>\n",
       "      <td>4</td>\n",
       "    </tr>\n",
       "    <tr>\n",
       "      <th>TP_PRESENCA_CN</th>\n",
       "      <td>TP_PRESENCA_CN</td>\n",
       "      <td>int64</td>\n",
       "      <td>0.000000</td>\n",
       "      <td>3</td>\n",
       "    </tr>\n",
       "    <tr>\n",
       "      <th>Q026</th>\n",
       "      <td>Q026</td>\n",
       "      <td>object</td>\n",
       "      <td>0.000000</td>\n",
       "      <td>3</td>\n",
       "    </tr>\n",
       "    <tr>\n",
       "      <th>Q024</th>\n",
       "      <td>Q024</td>\n",
       "      <td>object</td>\n",
       "      <td>0.000000</td>\n",
       "      <td>5</td>\n",
       "    </tr>\n",
       "    <tr>\n",
       "      <th>Q001</th>\n",
       "      <td>Q001</td>\n",
       "      <td>object</td>\n",
       "      <td>0.000000</td>\n",
       "      <td>8</td>\n",
       "    </tr>\n",
       "    <tr>\n",
       "      <th>NU_NOTA_COMP5</th>\n",
       "      <td>NU_NOTA_COMP5</td>\n",
       "      <td>float64</td>\n",
       "      <td>0.261981</td>\n",
       "      <td>14</td>\n",
       "    </tr>\n",
       "    <tr>\n",
       "      <th>Q006</th>\n",
       "      <td>Q006</td>\n",
       "      <td>object</td>\n",
       "      <td>0.000000</td>\n",
       "      <td>17</td>\n",
       "    </tr>\n",
       "    <tr>\n",
       "      <th>TP_SEXO</th>\n",
       "      <td>TP_SEXO</td>\n",
       "      <td>object</td>\n",
       "      <td>0.000000</td>\n",
       "      <td>2</td>\n",
       "    </tr>\n",
       "    <tr>\n",
       "      <th>NU_NOTA_COMP4</th>\n",
       "      <td>NU_NOTA_COMP4</td>\n",
       "      <td>float64</td>\n",
       "      <td>0.261981</td>\n",
       "      <td>14</td>\n",
       "    </tr>\n",
       "    <tr>\n",
       "      <th>NU_NOTA_MT</th>\n",
       "      <td>NU_NOTA_MT</td>\n",
       "      <td>float64</td>\n",
       "      <td>0.261981</td>\n",
       "      <td>3406</td>\n",
       "    </tr>\n",
       "  </tbody>\n",
       "</table>\n",
       "</div>"
      ],
      "text/plain": [
       "                                       colunas    tipos  percent_faltante  \\\n",
       "NU_NOTA_CN                          NU_NOTA_CN  float64          0.246832   \n",
       "TP_ESCOLA                            TP_ESCOLA    int64          0.000000   \n",
       "TP_COR_RACA                        TP_COR_RACA    int64          0.000000   \n",
       "TP_ST_CONCLUSAO                TP_ST_CONCLUSAO    int64          0.000000   \n",
       "NU_IDADE                              NU_IDADE    int64          0.000000   \n",
       "Q025                                      Q025   object          0.000000   \n",
       "NU_NOTA_COMP2                    NU_NOTA_COMP2  float64          0.261981   \n",
       "TP_ANO_CONCLUIU                TP_ANO_CONCLUIU    int64          0.000000   \n",
       "TP_PRESENCA_LC                  TP_PRESENCA_LC    int64          0.000000   \n",
       "TP_PRESENCA_CH                  TP_PRESENCA_CH    int64          0.000000   \n",
       "Q027                                      Q027   object          0.536999   \n",
       "TP_ENSINO                            TP_ENSINO  float64          0.688128   \n",
       "SG_UF_RESIDENCIA              SG_UF_RESIDENCIA   object          0.000000   \n",
       "NU_NOTA_COMP3                    NU_NOTA_COMP3  float64          0.261981   \n",
       "NU_NOTA_LC                          NU_NOTA_LC  float64          0.261981   \n",
       "Q002                                      Q002   object          0.000000   \n",
       "TP_NACIONALIDADE              TP_NACIONALIDADE    int64          0.000000   \n",
       "IN_TREINEIRO                      IN_TREINEIRO    int64          0.000000   \n",
       "TP_STATUS_REDACAO            TP_STATUS_REDACAO  float64          0.261981   \n",
       "CO_PROVA_MT                        CO_PROVA_MT   object          0.000000   \n",
       "NU_NOTA_COMP1                    NU_NOTA_COMP1  float64          0.261981   \n",
       "NU_NOTA_CH                          NU_NOTA_CH  float64          0.246832   \n",
       "NU_NOTA_REDACAO                NU_NOTA_REDACAO  float64          0.261981   \n",
       "Q047                                      Q047   object          0.000000   \n",
       "TP_DEPENDENCIA_ADM_ESC  TP_DEPENDENCIA_ADM_ESC  float64          0.688128   \n",
       "TP_PRESENCA_CN                  TP_PRESENCA_CN    int64          0.000000   \n",
       "Q026                                      Q026   object          0.000000   \n",
       "Q024                                      Q024   object          0.000000   \n",
       "Q001                                      Q001   object          0.000000   \n",
       "NU_NOTA_COMP5                    NU_NOTA_COMP5  float64          0.261981   \n",
       "Q006                                      Q006   object          0.000000   \n",
       "TP_SEXO                                TP_SEXO   object          0.000000   \n",
       "NU_NOTA_COMP4                    NU_NOTA_COMP4  float64          0.261981   \n",
       "NU_NOTA_MT                          NU_NOTA_MT  float64          0.261981   \n",
       "\n",
       "                        uniques  \n",
       "NU_NOTA_CN                 2692  \n",
       "TP_ESCOLA                     4  \n",
       "TP_COR_RACA                   6  \n",
       "TP_ST_CONCLUSAO               4  \n",
       "NU_IDADE                     55  \n",
       "Q025                          2  \n",
       "NU_NOTA_COMP2                13  \n",
       "TP_ANO_CONCLUIU              11  \n",
       "TP_PRESENCA_LC                3  \n",
       "TP_PRESENCA_CH                3  \n",
       "Q027                         13  \n",
       "TP_ENSINO                     3  \n",
       "SG_UF_RESIDENCIA             27  \n",
       "NU_NOTA_COMP3                12  \n",
       "NU_NOTA_LC                 2774  \n",
       "Q002                          8  \n",
       "TP_NACIONALIDADE              5  \n",
       "IN_TREINEIRO                  2  \n",
       "TP_STATUS_REDACAO             9  \n",
       "CO_PROVA_MT                   9  \n",
       "NU_NOTA_COMP1                15  \n",
       "NU_NOTA_CH                 2978  \n",
       "NU_NOTA_REDACAO              53  \n",
       "Q047                          5  \n",
       "TP_DEPENDENCIA_ADM_ESC        4  \n",
       "TP_PRESENCA_CN                3  \n",
       "Q026                          3  \n",
       "Q024                          5  \n",
       "Q001                          8  \n",
       "NU_NOTA_COMP5                14  \n",
       "Q006                         17  \n",
       "TP_SEXO                       2  \n",
       "NU_NOTA_COMP4                14  \n",
       "NU_NOTA_MT                 3406  "
      ]
     },
     "execution_count": 138,
     "metadata": {},
     "output_type": "execute_result"
    }
   ],
   "source": [
    "aux = pd.DataFrame({'colunas': df.columns,\n",
    "                    'tipos': df.dtypes,\n",
    "                    'percent_faltante': df.isna().sum() / df.shape[0],\n",
    "                    'uniques': df.nunique(),\n",
    "                   })\n",
    "\n",
    "aux"
   ]
  },
  {
   "cell_type": "code",
   "execution_count": 139,
   "metadata": {},
   "outputs": [
    {
     "name": "stdout",
     "output_type": "stream",
     "text": [
      "Qte. de colunas valores únicos: (0,)\n",
      "Qte. de colunas com mais de 25% de dados faltantes: (3,)\n",
      "Total colinas à excluir: 3\n"
     ]
    }
   ],
   "source": [
    "unique_values = aux.loc[aux['uniques'] == 1].sort_values(by='uniques').index\n",
    "high_nan_count = aux.loc[aux['percent_faltante'] > 0.30].sort_values(by='percent_faltante').index\n",
    "\n",
    "print('Qte. de colunas valores únicos: {0}'.format(unique_values.shape))\n",
    "print('Qte. de colunas com mais de 25% de dados faltantes: {0}'.format(high_nan_count.shape))\n",
    "\n",
    "\n",
    "columns_to_drop = list(set(high_nan_count) | set(unique_values))\n",
    "print('Total colinas à excluir: {0}'.format(len(columns_to_drop)))\n",
    "\n",
    "try:\n",
    "    df = df.drop(columns_to_drop, axis=1)\n",
    "except:\n",
    "    pass"
   ]
  },
  {
   "cell_type": "code",
   "execution_count": 140,
   "metadata": {},
   "outputs": [
    {
     "data": {
      "text/plain": [
       "(13730, 31)"
      ]
     },
     "execution_count": 140,
     "metadata": {},
     "output_type": "execute_result"
    }
   ],
   "source": [
    "df.shape"
   ]
  },
  {
   "cell_type": "markdown",
   "metadata": {},
   "source": [
    "## Variáveis Categóricas"
   ]
  },
  {
   "cell_type": "code",
   "execution_count": 141,
   "metadata": {},
   "outputs": [
    {
     "name": "stdout",
     "output_type": "stream",
     "text": [
      "<class 'pandas.core.frame.DataFrame'>\n",
      "Int64Index: 13730 entries, 1 to 4586\n",
      "Data columns (total 10 columns):\n",
      " #   Column            Non-Null Count  Dtype \n",
      "---  ------            --------------  ----- \n",
      " 0   Q025              13730 non-null  object\n",
      " 1   SG_UF_RESIDENCIA  13730 non-null  object\n",
      " 2   Q002              13730 non-null  object\n",
      " 3   CO_PROVA_MT       13730 non-null  object\n",
      " 4   Q047              13730 non-null  object\n",
      " 5   Q026              13730 non-null  object\n",
      " 6   Q024              13730 non-null  object\n",
      " 7   Q001              13730 non-null  object\n",
      " 8   Q006              13730 non-null  object\n",
      " 9   TP_SEXO           13730 non-null  object\n",
      "dtypes: object(10)\n",
      "memory usage: 1.2+ MB\n"
     ]
    }
   ],
   "source": [
    "variaveis_categoricas = df.select_dtypes(include='object').columns\n",
    "df[variaveis_categoricas].info()"
   ]
  },
  {
   "cell_type": "markdown",
   "metadata": {},
   "source": [
    "## Variáveis Numéricas"
   ]
  },
  {
   "cell_type": "code",
   "execution_count": 142,
   "metadata": {},
   "outputs": [],
   "source": [
    "variaveis_numericas = df.select_dtypes(include='number').columns"
   ]
  },
  {
   "cell_type": "code",
   "execution_count": 143,
   "metadata": {},
   "outputs": [
    {
     "data": {
      "text/plain": [
       "Index(['NU_NOTA_CN', 'TP_ESCOLA', 'TP_COR_RACA', 'TP_ST_CONCLUSAO', 'NU_IDADE',\n",
       "       'NU_NOTA_COMP2', 'TP_ANO_CONCLUIU', 'TP_PRESENCA_LC', 'TP_PRESENCA_CH',\n",
       "       'NU_NOTA_COMP3', 'NU_NOTA_LC', 'TP_NACIONALIDADE', 'IN_TREINEIRO',\n",
       "       'TP_STATUS_REDACAO', 'NU_NOTA_COMP1', 'NU_NOTA_CH', 'NU_NOTA_REDACAO',\n",
       "       'TP_PRESENCA_CN', 'NU_NOTA_COMP5', 'NU_NOTA_COMP4', 'NU_NOTA_MT'],\n",
       "      dtype='object')"
      ]
     },
     "execution_count": 143,
     "metadata": {},
     "output_type": "execute_result"
    }
   ],
   "source": [
    "df[variaveis_numericas].columns"
   ]
  },
  {
   "cell_type": "code",
   "execution_count": 144,
   "metadata": {
    "scrolled": false
   },
   "outputs": [
    {
     "name": "stdout",
     "output_type": "stream",
     "text": [
      "NU_NOTA_CN\n"
     ]
    },
    {
     "data": {
      "image/png": "[encoded data removed]",
      "text/plain": [
       "<Figure size 432x288 with 1 Axes>"
      ]
     },
     "metadata": {
      "needs_background": "light"
     },
     "output_type": "display_data"
    },
    {
     "name": "stdout",
     "output_type": "stream",
     "text": [
      "TP_ESCOLA\n"
     ]
    },
    {
     "data": {
      "image/png": "[encoded data removed]",
      "text/plain": [
       "<Figure size 432x288 with 1 Axes>"
      ]
     },
     "metadata": {
      "needs_background": "light"
     },
     "output_type": "display_data"
    },
    {
     "name": "stdout",
     "output_type": "stream",
     "text": [
      "TP_COR_RACA\n"
     ]
    },
    {
     "data": {
      "image/png": "[encoded data removed]",
      "text/plain": [
       "<Figure size 432x288 with 1 Axes>"
      ]
     },
     "metadata": {
      "needs_background": "light"
     },
     "output_type": "display_data"
    },
    {
     "name": "stdout",
     "output_type": "stream",
     "text": [
      "TP_ST_CONCLUSAO\n"
     ]
    },
    {
     "data": {
      "image/png": "[encoded data removed]",
      "text/plain": [
       "<Figure size 432x288 with 1 Axes>"
      ]
     },
     "metadata": {
      "needs_background": "light"
     },
     "output_type": "display_data"
    },
    {
     "name": "stdout",
     "output_type": "stream",
     "text": [
      "NU_IDADE\n"
     ]
    },
    {
     "data": {
      "image/png": "[encoded data removed]",
      "text/plain": [
       "<Figure size 432x288 with 1 Axes>"
      ]
     },
     "metadata": {
      "needs_background": "light"
     },
     "output_type": "display_data"
    },
    {
     "name": "stdout",
     "output_type": "stream",
     "text": [
      "NU_NOTA_COMP2\n"
     ]
    },
    {
     "data": {
      "image/png": "[encoded data removed]",
      "text/plain": [
       "<Figure size 432x288 with 1 Axes>"
      ]
     },
     "metadata": {
      "needs_background": "light"
     },
     "output_type": "display_data"
    },
    {
     "name": "stdout",
     "output_type": "stream",
     "text": [
      "TP_ANO_CONCLUIU\n"
     ]
    },
    {
     "data": {
      "image/png": "[encoded data removed]",
      "text/plain": [
       "<Figure size 432x288 with 1 Axes>"
      ]
     },
     "metadata": {
      "needs_background": "light"
     },
     "output_type": "display_data"
    },
    {
     "name": "stdout",
     "output_type": "stream",
     "text": [
      "TP_PRESENCA_LC\n"
     ]
    },
    {
     "data": {
      "image/png": "[encoded data removed]",
      "text/plain": [
       "<Figure size 432x288 with 1 Axes>"
      ]
     },
     "metadata": {
      "needs_background": "light"
     },
     "output_type": "display_data"
    },
    {
     "name": "stdout",
     "output_type": "stream",
     "text": [
      "TP_PRESENCA_CH\n"
     ]
    },
    {
     "data": {
      "image/png": "[encoded data removed]",
      "text/plain": [
       "<Figure size 432x288 with 1 Axes>"
      ]
     },
     "metadata": {
      "needs_background": "light"
     },
     "output_type": "display_data"
    },
    {
     "name": "stdout",
     "output_type": "stream",
     "text": [
      "NU_NOTA_COMP3\n"
     ]
    },
    {
     "data": {
      "image/png": "[encoded data removed]",
      "text/plain": [
       "<Figure size 432x288 with 1 Axes>"
      ]
     },
     "metadata": {
      "needs_background": "light"
     },
     "output_type": "display_data"
    },
    {
     "name": "stdout",
     "output_type": "stream",
     "text": [
      "NU_NOTA_LC\n"
     ]
    },
    {
     "data": {
      "image/png": "[encoded data removed]",
      "text/plain": [
       "<Figure size 432x288 with 1 Axes>"
      ]
     },
     "metadata": {
      "needs_background": "light"
     },
     "output_type": "display_data"
    },
    {
     "name": "stdout",
     "output_type": "stream",
     "text": [
      "TP_NACIONALIDADE\n"
     ]
    },
    {
     "data": {
      "image/png": "[encoded data removed]",
      "text/plain": [
       "<Figure size 432x288 with 1 Axes>"
      ]
     },
     "metadata": {
      "needs_background": "light"
     },
     "output_type": "display_data"
    },
    {
     "name": "stdout",
     "output_type": "stream",
     "text": [
      "IN_TREINEIRO\n"
     ]
    },
    {
     "data": {
      "image/png": "[encoded data removed]",
      "text/plain": [
       "<Figure size 432x288 with 1 Axes>"
      ]
     },
     "metadata": {
      "needs_background": "light"
     },
     "output_type": "display_data"
    },
    {
     "name": "stdout",
     "output_type": "stream",
     "text": [
      "TP_STATUS_REDACAO\n"
     ]
    },
    {
     "data": {
      "image/png": "[encoded data removed]",
      "text/plain": [
       "<Figure size 432x288 with 1 Axes>"
      ]
     },
     "metadata": {
      "needs_background": "light"
     },
     "output_type": "display_data"
    },
    {
     "name": "stdout",
     "output_type": "stream",
     "text": [
      "NU_NOTA_COMP1\n"
     ]
    },
    {
     "data": {
      "image/png": "[encoded data removed]",
      "text/plain": [
       "<Figure size 432x288 with 1 Axes>"
      ]
     },
     "metadata": {
      "needs_background": "light"
     },
     "output_type": "display_data"
    },
    {
     "name": "stdout",
     "output_type": "stream",
     "text": [
      "NU_NOTA_CH\n"
     ]
    },
    {
     "data": {
      "image/png": "[encoded data removed]",
      "text/plain": [
       "<Figure size 432x288 with 1 Axes>"
      ]
     },
     "metadata": {
      "needs_background": "light"
     },
     "output_type": "display_data"
    },
    {
     "name": "stdout",
     "output_type": "stream",
     "text": [
      "NU_NOTA_REDACAO\n"
     ]
    },
    {
     "data": {
      "image/png": "[encoded data removed]",
      "text/plain": [
       "<Figure size 432x288 with 1 Axes>"
      ]
     },
     "metadata": {
      "needs_background": "light"
     },
     "output_type": "display_data"
    },
    {
     "name": "stdout",
     "output_type": "stream",
     "text": [
      "TP_PRESENCA_CN\n"
     ]
    },
    {
     "data": {
      "image/png": "[encoded data removed]",
      "text/plain": [
       "<Figure size 432x288 with 1 Axes>"
      ]
     },
     "metadata": {
      "needs_background": "light"
     },
     "output_type": "display_data"
    },
    {
     "name": "stdout",
     "output_type": "stream",
     "text": [
      "NU_NOTA_COMP5\n"
     ]
    },
    {
     "data": {
      "image/png": "[encoded data removed]",
      "text/plain": [
       "<Figure size 432x288 with 1 Axes>"
      ]
     },
     "metadata": {
      "needs_background": "light"
     },
     "output_type": "display_data"
    },
    {
     "name": "stdout",
     "output_type": "stream",
     "text": [
      "NU_NOTA_COMP4\n"
     ]
    },
    {
     "data": {
      "image/png": "[encoded data removed]",
      "text/plain": [
       "<Figure size 432x288 with 1 Axes>"
      ]
     },
     "metadata": {
      "needs_background": "light"
     },
     "output_type": "display_data"
    },
    {
     "name": "stdout",
     "output_type": "stream",
     "text": [
      "NU_NOTA_MT\n"
     ]
    },
    {
     "data": {
      "image/png": "[encoded data removed]",
      "text/plain": [
       "<Figure size 432x288 with 1 Axes>"
      ]
     },
     "metadata": {
      "needs_background": "light"
     },
     "output_type": "display_data"
    }
   ],
   "source": [
    "for col in df[variaveis_numericas]:\n",
    "    print(col)\n",
    "    df[col].plot.hist(bins=50)\n",
    "    plt.show()"
   ]
  },
  {
   "cell_type": "code",
   "execution_count": 145,
   "metadata": {},
   "outputs": [
    {
     "data": {
      "text/plain": [
       "<matplotlib.axes._subplots.AxesSubplot at 0x7fb263bb2510>"
      ]
     },
     "execution_count": 145,
     "metadata": {},
     "output_type": "execute_result"
    },
    {
     "data": {
      "image/png": "[encoded data removed]",
      "text/plain": [
       "<Figure size 1008x864 with 2 Axes>"
      ]
     },
     "metadata": {
      "needs_background": "light"
     },
     "output_type": "display_data"
    }
   ],
   "source": [
    "corr = df.corr()\n",
    "kot = corr[corr>=.9]\n",
    "plt.figure(figsize=(14,12))\n",
    "sns.heatmap(kot)"
   ]
  },
  {
   "cell_type": "code",
   "execution_count": 146,
   "metadata": {},
   "outputs": [],
   "source": [
    "df = df.drop(['TP_PRESENCA_CH', 'TP_PRESENCA_CN'], axis=1)\n",
    "variaveis_numericas = variaveis_numericas.drop(['TP_PRESENCA_CH', 'TP_PRESENCA_CN'])"
   ]
  },
  {
   "cell_type": "code",
   "execution_count": 147,
   "metadata": {},
   "outputs": [
    {
     "name": "stdout",
     "output_type": "stream",
     "text": [
      "<class 'pandas.core.frame.DataFrame'>\n",
      "Int64Index: 13730 entries, 1 to 4586\n",
      "Data columns (total 19 columns):\n",
      " #   Column             Non-Null Count  Dtype  \n",
      "---  ------             --------------  -----  \n",
      " 0   NU_NOTA_CN         10341 non-null  float64\n",
      " 1   TP_ESCOLA          13730 non-null  int64  \n",
      " 2   TP_COR_RACA        13730 non-null  int64  \n",
      " 3   TP_ST_CONCLUSAO    13730 non-null  int64  \n",
      " 4   NU_IDADE           13730 non-null  int64  \n",
      " 5   NU_NOTA_COMP2      10133 non-null  float64\n",
      " 6   TP_ANO_CONCLUIU    13730 non-null  int64  \n",
      " 7   TP_PRESENCA_LC     13730 non-null  int64  \n",
      " 8   NU_NOTA_COMP3      10133 non-null  float64\n",
      " 9   NU_NOTA_LC         10133 non-null  float64\n",
      " 10  TP_NACIONALIDADE   13730 non-null  int64  \n",
      " 11  IN_TREINEIRO       13730 non-null  int64  \n",
      " 12  TP_STATUS_REDACAO  10133 non-null  float64\n",
      " 13  NU_NOTA_COMP1      10133 non-null  float64\n",
      " 14  NU_NOTA_CH         10341 non-null  float64\n",
      " 15  NU_NOTA_REDACAO    10133 non-null  float64\n",
      " 16  NU_NOTA_COMP5      10133 non-null  float64\n",
      " 17  NU_NOTA_COMP4      10133 non-null  float64\n",
      " 18  NU_NOTA_MT         10133 non-null  float64\n",
      "dtypes: float64(11), int64(8)\n",
      "memory usage: 2.1 MB\n"
     ]
    }
   ],
   "source": [
    "df[variaveis_numericas].info()"
   ]
  },
  {
   "cell_type": "code",
   "execution_count": 148,
   "metadata": {},
   "outputs": [],
   "source": [
    "df.dropna(inplace=True)\n",
    "df_test.dropna(inplace=True)"
   ]
  },
  {
   "cell_type": "markdown",
   "metadata": {},
   "source": [
    "## Transformando os dados"
   ]
  },
  {
   "cell_type": "code",
   "execution_count": 149,
   "metadata": {},
   "outputs": [],
   "source": [
    "X = df.drop(['NU_NOTA_MT'], axis=1)\n",
    "y = df['NU_NOTA_MT']\n",
    "\n",
    "minmax = MinMaxScaler()\n",
    "\n",
    "X = pd.get_dummies(X)\n",
    "X_pred = pd.get_dummies(df_test)\n",
    "\n",
    "columns = list(set(X_encoded_columns) & set(X_pred.columns))\n",
    "\n",
    "X = X[columns]\n",
    "X_pred = X_pred[columns]\n",
    "\n",
    "X = minmax.fit_transform(X)\n",
    "    \n",
    "X_train, X_test, y_train, y_test = train_test_split(X, y, test_size=0.3, random_state=42)"
   ]
  },
  {
   "cell_type": "code",
   "execution_count": 150,
   "metadata": {},
   "outputs": [
    {
     "data": {
      "text/plain": [
       "LinearRegression()"
      ]
     },
     "execution_count": 150,
     "metadata": {},
     "output_type": "execute_result"
    }
   ],
   "source": [
    "reg = LinearRegression()\n",
    "reg.fit(X_train, y_train)"
   ]
  },
  {
   "cell_type": "code",
   "execution_count": 151,
   "metadata": {},
   "outputs": [],
   "source": [
    "y_pred = reg.predict(X_test)"
   ]
  },
  {
   "cell_type": "code",
   "execution_count": 152,
   "metadata": {},
   "outputs": [
    {
     "data": {
      "text/plain": [
       "array([409.09375, 487.59375, 674.5    , ..., 407.65625, 446.90625,\n",
       "       487.84375])"
      ]
     },
     "execution_count": 152,
     "metadata": {},
     "output_type": "execute_result"
    }
   ],
   "source": [
    "y_pred"
   ]
  },
  {
   "cell_type": "markdown",
   "metadata": {},
   "source": [
    "## Prevendo os dados de teste"
   ]
  },
  {
   "cell_type": "code",
   "execution_count": 153,
   "metadata": {},
   "outputs": [],
   "source": [
    "X_pred = minmax.transform(X_pred)\n",
    "y_pred = reg.predict(X_pred)"
   ]
  },
  {
   "cell_type": "code",
   "execution_count": 154,
   "metadata": {},
   "outputs": [],
   "source": [
    "answer = df_test['NU_INSCRICAO']"
   ]
  },
  {
   "cell_type": "code",
   "execution_count": 155,
   "metadata": {},
   "outputs": [
    {
     "data": {
      "text/plain": [
       "8       043c544a2104aa8a9849f1a703a08d37a2f16839\n",
       "40      664f44258212a1f7e4086f2b4845d586c543fa3f\n",
       "43      78de1ee60b55766cc3eba4089e36c57139b66ebd\n",
       "49      7d39df837488ca3fa6e512fd9e20ec7753b4c36d\n",
       "71      dbaa6ee7502cbebb6f058fed5d2f960b19f451ac\n",
       "                          ...                   \n",
       "4466    478a9061bab1a42882f5aa2cb59d0f5c5247fb1c\n",
       "4490    ed3238736f06e16b43a5f917369acfe02eb0446e\n",
       "4501    d441048d32e09849c74fcaed7ca1ef6d7fce35f9\n",
       "4563    022b5863816f22ed5ed27c9ab648918dc471bd68\n",
       "4568    c3fa7f85609c5ab50f3f5959950b12b0eb77f7b6\n",
       "Name: NU_INSCRICAO, Length: 293, dtype: object"
      ]
     },
     "execution_count": 155,
     "metadata": {},
     "output_type": "execute_result"
    }
   ],
   "source": [
    "answer"
   ]
  },
  {
   "cell_type": "code",
   "execution_count": 156,
   "metadata": {},
   "outputs": [],
   "source": [
    "answer = pd.DataFrame({'NU_INSCRICAO': df_test['NU_INSCRICAO'].values, 'NU_NOTA_MT': y_pred})"
   ]
  },
  {
   "cell_type": "code",
   "execution_count": 159,
   "metadata": {},
   "outputs": [
    {
     "data": {
      "text/html": [
       "<div>\n",
       "<style scoped>\n",
       "    .dataframe tbody tr th:only-of-type {\n",
       "        vertical-align: middle;\n",
       "    }\n",
       "\n",
       "    .dataframe tbody tr th {\n",
       "        vertical-align: top;\n",
       "    }\n",
       "\n",
       "    .dataframe thead th {\n",
       "        text-align: right;\n",
       "    }\n",
       "</style>\n",
       "<table border=\"1\" class=\"dataframe\">\n",
       "  <thead>\n",
       "    <tr style=\"text-align: right;\">\n",
       "      <th></th>\n",
       "      <th>NU_INSCRICAO</th>\n",
       "      <th>NU_NOTA_MT</th>\n",
       "    </tr>\n",
       "  </thead>\n",
       "  <tbody>\n",
       "    <tr>\n",
       "      <th>0</th>\n",
       "      <td>043c544a2104aa8a9849f1a703a08d37a2f16839</td>\n",
       "      <td>448.18750</td>\n",
       "    </tr>\n",
       "    <tr>\n",
       "      <th>1</th>\n",
       "      <td>664f44258212a1f7e4086f2b4845d586c543fa3f</td>\n",
       "      <td>489.81250</td>\n",
       "    </tr>\n",
       "    <tr>\n",
       "      <th>2</th>\n",
       "      <td>78de1ee60b55766cc3eba4089e36c57139b66ebd</td>\n",
       "      <td>466.12500</td>\n",
       "    </tr>\n",
       "    <tr>\n",
       "      <th>3</th>\n",
       "      <td>7d39df837488ca3fa6e512fd9e20ec7753b4c36d</td>\n",
       "      <td>461.59375</td>\n",
       "    </tr>\n",
       "    <tr>\n",
       "      <th>4</th>\n",
       "      <td>dbaa6ee7502cbebb6f058fed5d2f960b19f451ac</td>\n",
       "      <td>429.03125</td>\n",
       "    </tr>\n",
       "    <tr>\n",
       "      <th>...</th>\n",
       "      <td>...</td>\n",
       "      <td>...</td>\n",
       "    </tr>\n",
       "    <tr>\n",
       "      <th>288</th>\n",
       "      <td>478a9061bab1a42882f5aa2cb59d0f5c5247fb1c</td>\n",
       "      <td>513.56250</td>\n",
       "    </tr>\n",
       "    <tr>\n",
       "      <th>289</th>\n",
       "      <td>ed3238736f06e16b43a5f917369acfe02eb0446e</td>\n",
       "      <td>583.34375</td>\n",
       "    </tr>\n",
       "    <tr>\n",
       "      <th>290</th>\n",
       "      <td>d441048d32e09849c74fcaed7ca1ef6d7fce35f9</td>\n",
       "      <td>414.71875</td>\n",
       "    </tr>\n",
       "    <tr>\n",
       "      <th>291</th>\n",
       "      <td>022b5863816f22ed5ed27c9ab648918dc471bd68</td>\n",
       "      <td>412.03125</td>\n",
       "    </tr>\n",
       "    <tr>\n",
       "      <th>292</th>\n",
       "      <td>c3fa7f85609c5ab50f3f5959950b12b0eb77f7b6</td>\n",
       "      <td>413.81250</td>\n",
       "    </tr>\n",
       "  </tbody>\n",
       "</table>\n",
       "<p>293 rows × 2 columns</p>\n",
       "</div>"
      ],
      "text/plain": [
       "                                 NU_INSCRICAO  NU_NOTA_MT\n",
       "0    043c544a2104aa8a9849f1a703a08d37a2f16839   448.18750\n",
       "1    664f44258212a1f7e4086f2b4845d586c543fa3f   489.81250\n",
       "2    78de1ee60b55766cc3eba4089e36c57139b66ebd   466.12500\n",
       "3    7d39df837488ca3fa6e512fd9e20ec7753b4c36d   461.59375\n",
       "4    dbaa6ee7502cbebb6f058fed5d2f960b19f451ac   429.03125\n",
       "..                                        ...         ...\n",
       "288  478a9061bab1a42882f5aa2cb59d0f5c5247fb1c   513.56250\n",
       "289  ed3238736f06e16b43a5f917369acfe02eb0446e   583.34375\n",
       "290  d441048d32e09849c74fcaed7ca1ef6d7fce35f9   414.71875\n",
       "291  022b5863816f22ed5ed27c9ab648918dc471bd68   412.03125\n",
       "292  c3fa7f85609c5ab50f3f5959950b12b0eb77f7b6   413.81250\n",
       "\n",
       "[293 rows x 2 columns]"
      ]
     },
     "execution_count": 159,
     "metadata": {},
     "output_type": "execute_result"
    }
   ],
   "source": [
    "answer"
   ]
  },
  {
   "cell_type": "code",
   "execution_count": 158,
   "metadata": {},
   "outputs": [],
   "source": [
    "answer.to_csv('answer.csv', encoding='utf-8', index=False)"
   ]
  }
 ],
 "metadata": {
  "kernelspec": {
   "display_name": "Python 3",
   "language": "python",
   "name": "python3"
  },
  "language_info": {
   "codemirror_mode": {
    "name": "ipython",
    "version": 3
   },
   "file_extension": ".py",
   "mimetype": "text/x-python",
   "name": "python",
   "nbconvert_exporter": "python",
   "pygments_lexer": "ipython3",
   "version": "3.7.6"
  }
 },
 "nbformat": 4,
 "nbformat_minor": 4
}
