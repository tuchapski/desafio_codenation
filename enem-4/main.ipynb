{
 "cells": [
  {
   "cell_type": "code",
   "execution_count": 35,
   "metadata": {},
   "outputs": [],
   "source": [
    "import pandas as pd\n",
    "import numpy as np\n",
    "import matplotlib.pyplot as plt\n",
    "import seaborn as sns\n",
    "\n",
    "from sklearn.model_selection import train_test_split\n",
    "from sklearn.preprocessing import MinMaxScaler\n",
    "from sklearn.linear_model import LinearRegression\n",
    "from imblearn.over_sampling import SMOTE\n",
    "from sklearn.ensemble import RandomForestClassifier"
   ]
  },
  {
   "cell_type": "code",
   "execution_count": 36,
   "metadata": {},
   "outputs": [],
   "source": [
    "#Carregar Datasets\n",
    "df = pd.read_csv('train.csv', index_col=0)\n",
    "df_test = pd.read_csv('test.csv', index_col=0)\n",
    "\n",
    "df_test = df_test.reset_index()"
   ]
  },
  {
   "cell_type": "markdown",
   "metadata": {},
   "source": [
    "\n",
    "## Deixar as colunas iguais para datasets train e test "
   ]
  },
  {
   "cell_type": "code",
   "execution_count": 37,
   "metadata": {},
   "outputs": [],
   "source": [
    "tran_column = df.columns\n",
    "test_column = df_test.columns\n",
    "\n",
    "y_train_column = df['IN_TREINEIRO']\n",
    "\n",
    "columns = list(set(tran_column) & set(test_column))\n",
    "\n",
    "df = df[columns]\n",
    "#Recolocando a coluna Y após correção das colunas dos datasets\n",
    "df['IN_TREINEIRO'] = y_train_column"
   ]
  },
  {
   "cell_type": "markdown",
   "metadata": {},
   "source": [
    "# PRÉ PROCESSAMENTO\n",
    "\n",
    "Removendo colunas com base nas informações do dicionário de Microdados ENEN_2016"
   ]
  },
  {
   "cell_type": "code",
   "execution_count": 38,
   "metadata": {},
   "outputs": [
    {
     "data": {
      "text/html": [
       "<div>\n",
       "<style scoped>\n",
       "    .dataframe tbody tr th:only-of-type {\n",
       "        vertical-align: middle;\n",
       "    }\n",
       "\n",
       "    .dataframe tbody tr th {\n",
       "        vertical-align: top;\n",
       "    }\n",
       "\n",
       "    .dataframe thead th {\n",
       "        text-align: right;\n",
       "    }\n",
       "</style>\n",
       "<table border=\"1\" class=\"dataframe\">\n",
       "  <thead>\n",
       "    <tr style=\"text-align: right;\">\n",
       "      <th></th>\n",
       "      <th>Q001</th>\n",
       "      <th>IN_DISCALCULIA</th>\n",
       "      <th>TP_PRESENCA_CN</th>\n",
       "      <th>Q026</th>\n",
       "      <th>NU_NOTA_COMP1</th>\n",
       "      <th>Q027</th>\n",
       "      <th>TP_COR_RACA</th>\n",
       "      <th>IN_BAIXA_VISAO</th>\n",
       "      <th>Q006</th>\n",
       "      <th>IN_GESTANTE</th>\n",
       "      <th>...</th>\n",
       "      <th>Q024</th>\n",
       "      <th>TP_LINGUA</th>\n",
       "      <th>Q047</th>\n",
       "      <th>IN_IDOSO</th>\n",
       "      <th>TP_STATUS_REDACAO</th>\n",
       "      <th>SG_UF_RESIDENCIA</th>\n",
       "      <th>NU_NOTA_LC</th>\n",
       "      <th>NU_NOTA_REDACAO</th>\n",
       "      <th>Q025</th>\n",
       "      <th>IN_TREINEIRO</th>\n",
       "    </tr>\n",
       "  </thead>\n",
       "  <tbody>\n",
       "    <tr>\n",
       "      <th>1</th>\n",
       "      <td>D</td>\n",
       "      <td>0</td>\n",
       "      <td>1</td>\n",
       "      <td>C</td>\n",
       "      <td>120.0</td>\n",
       "      <td>H</td>\n",
       "      <td>1</td>\n",
       "      <td>0</td>\n",
       "      <td>C</td>\n",
       "      <td>0</td>\n",
       "      <td>...</td>\n",
       "      <td>A</td>\n",
       "      <td>1</td>\n",
       "      <td>A</td>\n",
       "      <td>0</td>\n",
       "      <td>1.0</td>\n",
       "      <td>RS</td>\n",
       "      <td>581.2</td>\n",
       "      <td>520.0</td>\n",
       "      <td>A</td>\n",
       "      <td>0</td>\n",
       "    </tr>\n",
       "    <tr>\n",
       "      <th>2</th>\n",
       "      <td>A</td>\n",
       "      <td>0</td>\n",
       "      <td>1</td>\n",
       "      <td>A</td>\n",
       "      <td>140.0</td>\n",
       "      <td>NaN</td>\n",
       "      <td>3</td>\n",
       "      <td>0</td>\n",
       "      <td>B</td>\n",
       "      <td>0</td>\n",
       "      <td>...</td>\n",
       "      <td>A</td>\n",
       "      <td>1</td>\n",
       "      <td>A</td>\n",
       "      <td>0</td>\n",
       "      <td>1.0</td>\n",
       "      <td>CE</td>\n",
       "      <td>599.0</td>\n",
       "      <td>580.0</td>\n",
       "      <td>A</td>\n",
       "      <td>0</td>\n",
       "    </tr>\n",
       "    <tr>\n",
       "      <th>3</th>\n",
       "      <td>D</td>\n",
       "      <td>0</td>\n",
       "      <td>0</td>\n",
       "      <td>A</td>\n",
       "      <td>NaN</td>\n",
       "      <td>NaN</td>\n",
       "      <td>3</td>\n",
       "      <td>0</td>\n",
       "      <td>C</td>\n",
       "      <td>0</td>\n",
       "      <td>...</td>\n",
       "      <td>A</td>\n",
       "      <td>1</td>\n",
       "      <td>A</td>\n",
       "      <td>0</td>\n",
       "      <td>NaN</td>\n",
       "      <td>CE</td>\n",
       "      <td>NaN</td>\n",
       "      <td>NaN</td>\n",
       "      <td>A</td>\n",
       "      <td>0</td>\n",
       "    </tr>\n",
       "    <tr>\n",
       "      <th>4</th>\n",
       "      <td>H</td>\n",
       "      <td>0</td>\n",
       "      <td>0</td>\n",
       "      <td>C</td>\n",
       "      <td>NaN</td>\n",
       "      <td>F</td>\n",
       "      <td>0</td>\n",
       "      <td>0</td>\n",
       "      <td>E</td>\n",
       "      <td>0</td>\n",
       "      <td>...</td>\n",
       "      <td>C</td>\n",
       "      <td>0</td>\n",
       "      <td>D</td>\n",
       "      <td>0</td>\n",
       "      <td>NaN</td>\n",
       "      <td>RJ</td>\n",
       "      <td>NaN</td>\n",
       "      <td>NaN</td>\n",
       "      <td>B</td>\n",
       "      <td>0</td>\n",
       "    </tr>\n",
       "    <tr>\n",
       "      <th>5</th>\n",
       "      <td>E</td>\n",
       "      <td>0</td>\n",
       "      <td>0</td>\n",
       "      <td>B</td>\n",
       "      <td>NaN</td>\n",
       "      <td>F</td>\n",
       "      <td>2</td>\n",
       "      <td>0</td>\n",
       "      <td>C</td>\n",
       "      <td>0</td>\n",
       "      <td>...</td>\n",
       "      <td>A</td>\n",
       "      <td>1</td>\n",
       "      <td>A</td>\n",
       "      <td>0</td>\n",
       "      <td>NaN</td>\n",
       "      <td>AM</td>\n",
       "      <td>NaN</td>\n",
       "      <td>NaN</td>\n",
       "      <td>A</td>\n",
       "      <td>0</td>\n",
       "    </tr>\n",
       "  </tbody>\n",
       "</table>\n",
       "<p>5 rows × 44 columns</p>\n",
       "</div>"
      ],
      "text/plain": [
       "  Q001  IN_DISCALCULIA  TP_PRESENCA_CN Q026  NU_NOTA_COMP1 Q027  TP_COR_RACA  \\\n",
       "1    D               0               1    C          120.0    H            1   \n",
       "2    A               0               1    A          140.0  NaN            3   \n",
       "3    D               0               0    A            NaN  NaN            3   \n",
       "4    H               0               0    C            NaN    F            0   \n",
       "5    E               0               0    B            NaN    F            2   \n",
       "\n",
       "   IN_BAIXA_VISAO Q006  IN_GESTANTE  ...  Q024  TP_LINGUA  Q047 IN_IDOSO  \\\n",
       "1               0    C            0  ...     A          1     A        0   \n",
       "2               0    B            0  ...     A          1     A        0   \n",
       "3               0    C            0  ...     A          1     A        0   \n",
       "4               0    E            0  ...     C          0     D        0   \n",
       "5               0    C            0  ...     A          1     A        0   \n",
       "\n",
       "   TP_STATUS_REDACAO  SG_UF_RESIDENCIA  NU_NOTA_LC NU_NOTA_REDACAO Q025  \\\n",
       "1                1.0                RS       581.2           520.0    A   \n",
       "2                1.0                CE       599.0           580.0    A   \n",
       "3                NaN                CE         NaN             NaN    A   \n",
       "4                NaN                RJ         NaN             NaN    B   \n",
       "5                NaN                AM         NaN             NaN    A   \n",
       "\n",
       "   IN_TREINEIRO  \n",
       "1             0  \n",
       "2             0  \n",
       "3             0  \n",
       "4             0  \n",
       "5             0  \n",
       "\n",
       "[5 rows x 44 columns]"
      ]
     },
     "execution_count": 38,
     "metadata": {},
     "output_type": "execute_result"
    }
   ],
   "source": [
    "df.head()"
   ]
  },
  {
   "cell_type": "code",
   "execution_count": 39,
   "metadata": {},
   "outputs": [],
   "source": [
    "columns_to_remove = ['CO_UF_RESIDENCIA', 'IN_BAIXA_VISAO', 'IN_CEGUEIRA',\n",
    "                     'IN_DISCALCULIA', 'IN_DISLEXIA', 'IN_GESTANTE',\n",
    "                     'IN_IDOSO', 'IN_SABATISTA', 'IN_SURDEZ',\n",
    "                     'TP_LINGUA', 'NU_INSCRICAO', 'TP_PRESENCA_MT', 'TP_PRESENCA_LC'\n",
    "                    ]\n",
    "\n",
    "\n",
    "df = df.drop(columns_to_remove, axis=1)"
   ]
  },
  {
   "cell_type": "code",
   "execution_count": 40,
   "metadata": {},
   "outputs": [
    {
     "name": "stdout",
     "output_type": "stream",
     "text": [
      "<class 'pandas.core.frame.DataFrame'>\n",
      "Int64Index: 13730 entries, 1 to 4586\n",
      "Data columns (total 31 columns):\n",
      " #   Column                  Non-Null Count  Dtype  \n",
      "---  ------                  --------------  -----  \n",
      " 0   Q001                    13730 non-null  object \n",
      " 1   TP_PRESENCA_CN          13730 non-null  int64  \n",
      " 2   Q026                    13730 non-null  object \n",
      " 3   NU_NOTA_COMP1           10133 non-null  float64\n",
      " 4   Q027                    6357 non-null   object \n",
      " 5   TP_COR_RACA             13730 non-null  int64  \n",
      " 6   Q006                    13730 non-null  object \n",
      " 7   NU_IDADE                13730 non-null  int64  \n",
      " 8   TP_SEXO                 13730 non-null  object \n",
      " 9   NU_NOTA_CN              10341 non-null  float64\n",
      " 10  Q002                    13730 non-null  object \n",
      " 11  TP_ST_CONCLUSAO         13730 non-null  int64  \n",
      " 12  TP_NACIONALIDADE        13730 non-null  int64  \n",
      " 13  TP_ENSINO               4282 non-null   float64\n",
      " 14  NU_NOTA_COMP4           10133 non-null  float64\n",
      " 15  NU_NOTA_COMP5           10133 non-null  float64\n",
      " 16  NU_NOTA_CH              10341 non-null  float64\n",
      " 17  NU_NOTA_COMP2           10133 non-null  float64\n",
      " 18  TP_ANO_CONCLUIU         13730 non-null  int64  \n",
      " 19  TP_PRESENCA_CH          13730 non-null  int64  \n",
      " 20  TP_ESCOLA               13730 non-null  int64  \n",
      " 21  NU_NOTA_COMP3           10133 non-null  float64\n",
      " 22  TP_DEPENDENCIA_ADM_ESC  4282 non-null   float64\n",
      " 23  Q024                    13730 non-null  object \n",
      " 24  Q047                    13730 non-null  object \n",
      " 25  TP_STATUS_REDACAO       10133 non-null  float64\n",
      " 26  SG_UF_RESIDENCIA        13730 non-null  object \n",
      " 27  NU_NOTA_LC              10133 non-null  float64\n",
      " 28  NU_NOTA_REDACAO         10133 non-null  float64\n",
      " 29  Q025                    13730 non-null  object \n",
      " 30  IN_TREINEIRO            13730 non-null  int64  \n",
      "dtypes: float64(12), int64(9), object(10)\n",
      "memory usage: 3.4+ MB\n"
     ]
    }
   ],
   "source": [
    "df.info()"
   ]
  },
  {
   "cell_type": "code",
   "execution_count": 41,
   "metadata": {},
   "outputs": [
    {
     "data": {
      "text/html": [
       "<div>\n",
       "<style scoped>\n",
       "    .dataframe tbody tr th:only-of-type {\n",
       "        vertical-align: middle;\n",
       "    }\n",
       "\n",
       "    .dataframe tbody tr th {\n",
       "        vertical-align: top;\n",
       "    }\n",
       "\n",
       "    .dataframe thead th {\n",
       "        text-align: right;\n",
       "    }\n",
       "</style>\n",
       "<table border=\"1\" class=\"dataframe\">\n",
       "  <thead>\n",
       "    <tr style=\"text-align: right;\">\n",
       "      <th></th>\n",
       "      <th>colunas</th>\n",
       "      <th>tipos</th>\n",
       "      <th>percent_faltante</th>\n",
       "      <th>uniques</th>\n",
       "    </tr>\n",
       "  </thead>\n",
       "  <tbody>\n",
       "    <tr>\n",
       "      <th>Q001</th>\n",
       "      <td>Q001</td>\n",
       "      <td>object</td>\n",
       "      <td>0.000000</td>\n",
       "      <td>8</td>\n",
       "    </tr>\n",
       "    <tr>\n",
       "      <th>TP_PRESENCA_CN</th>\n",
       "      <td>TP_PRESENCA_CN</td>\n",
       "      <td>int64</td>\n",
       "      <td>0.000000</td>\n",
       "      <td>3</td>\n",
       "    </tr>\n",
       "    <tr>\n",
       "      <th>Q026</th>\n",
       "      <td>Q026</td>\n",
       "      <td>object</td>\n",
       "      <td>0.000000</td>\n",
       "      <td>3</td>\n",
       "    </tr>\n",
       "    <tr>\n",
       "      <th>NU_NOTA_COMP1</th>\n",
       "      <td>NU_NOTA_COMP1</td>\n",
       "      <td>float64</td>\n",
       "      <td>0.261981</td>\n",
       "      <td>15</td>\n",
       "    </tr>\n",
       "    <tr>\n",
       "      <th>Q027</th>\n",
       "      <td>Q027</td>\n",
       "      <td>object</td>\n",
       "      <td>0.536999</td>\n",
       "      <td>13</td>\n",
       "    </tr>\n",
       "    <tr>\n",
       "      <th>TP_COR_RACA</th>\n",
       "      <td>TP_COR_RACA</td>\n",
       "      <td>int64</td>\n",
       "      <td>0.000000</td>\n",
       "      <td>6</td>\n",
       "    </tr>\n",
       "    <tr>\n",
       "      <th>Q006</th>\n",
       "      <td>Q006</td>\n",
       "      <td>object</td>\n",
       "      <td>0.000000</td>\n",
       "      <td>17</td>\n",
       "    </tr>\n",
       "    <tr>\n",
       "      <th>NU_IDADE</th>\n",
       "      <td>NU_IDADE</td>\n",
       "      <td>int64</td>\n",
       "      <td>0.000000</td>\n",
       "      <td>55</td>\n",
       "    </tr>\n",
       "    <tr>\n",
       "      <th>TP_SEXO</th>\n",
       "      <td>TP_SEXO</td>\n",
       "      <td>object</td>\n",
       "      <td>0.000000</td>\n",
       "      <td>2</td>\n",
       "    </tr>\n",
       "    <tr>\n",
       "      <th>NU_NOTA_CN</th>\n",
       "      <td>NU_NOTA_CN</td>\n",
       "      <td>float64</td>\n",
       "      <td>0.246832</td>\n",
       "      <td>2692</td>\n",
       "    </tr>\n",
       "    <tr>\n",
       "      <th>Q002</th>\n",
       "      <td>Q002</td>\n",
       "      <td>object</td>\n",
       "      <td>0.000000</td>\n",
       "      <td>8</td>\n",
       "    </tr>\n",
       "    <tr>\n",
       "      <th>TP_ST_CONCLUSAO</th>\n",
       "      <td>TP_ST_CONCLUSAO</td>\n",
       "      <td>int64</td>\n",
       "      <td>0.000000</td>\n",
       "      <td>4</td>\n",
       "    </tr>\n",
       "    <tr>\n",
       "      <th>TP_NACIONALIDADE</th>\n",
       "      <td>TP_NACIONALIDADE</td>\n",
       "      <td>int64</td>\n",
       "      <td>0.000000</td>\n",
       "      <td>5</td>\n",
       "    </tr>\n",
       "    <tr>\n",
       "      <th>TP_ENSINO</th>\n",
       "      <td>TP_ENSINO</td>\n",
       "      <td>float64</td>\n",
       "      <td>0.688128</td>\n",
       "      <td>3</td>\n",
       "    </tr>\n",
       "    <tr>\n",
       "      <th>NU_NOTA_COMP4</th>\n",
       "      <td>NU_NOTA_COMP4</td>\n",
       "      <td>float64</td>\n",
       "      <td>0.261981</td>\n",
       "      <td>14</td>\n",
       "    </tr>\n",
       "    <tr>\n",
       "      <th>NU_NOTA_COMP5</th>\n",
       "      <td>NU_NOTA_COMP5</td>\n",
       "      <td>float64</td>\n",
       "      <td>0.261981</td>\n",
       "      <td>14</td>\n",
       "    </tr>\n",
       "    <tr>\n",
       "      <th>NU_NOTA_CH</th>\n",
       "      <td>NU_NOTA_CH</td>\n",
       "      <td>float64</td>\n",
       "      <td>0.246832</td>\n",
       "      <td>2978</td>\n",
       "    </tr>\n",
       "    <tr>\n",
       "      <th>NU_NOTA_COMP2</th>\n",
       "      <td>NU_NOTA_COMP2</td>\n",
       "      <td>float64</td>\n",
       "      <td>0.261981</td>\n",
       "      <td>13</td>\n",
       "    </tr>\n",
       "    <tr>\n",
       "      <th>TP_ANO_CONCLUIU</th>\n",
       "      <td>TP_ANO_CONCLUIU</td>\n",
       "      <td>int64</td>\n",
       "      <td>0.000000</td>\n",
       "      <td>11</td>\n",
       "    </tr>\n",
       "    <tr>\n",
       "      <th>TP_PRESENCA_CH</th>\n",
       "      <td>TP_PRESENCA_CH</td>\n",
       "      <td>int64</td>\n",
       "      <td>0.000000</td>\n",
       "      <td>3</td>\n",
       "    </tr>\n",
       "    <tr>\n",
       "      <th>TP_ESCOLA</th>\n",
       "      <td>TP_ESCOLA</td>\n",
       "      <td>int64</td>\n",
       "      <td>0.000000</td>\n",
       "      <td>4</td>\n",
       "    </tr>\n",
       "    <tr>\n",
       "      <th>NU_NOTA_COMP3</th>\n",
       "      <td>NU_NOTA_COMP3</td>\n",
       "      <td>float64</td>\n",
       "      <td>0.261981</td>\n",
       "      <td>12</td>\n",
       "    </tr>\n",
       "    <tr>\n",
       "      <th>TP_DEPENDENCIA_ADM_ESC</th>\n",
       "      <td>TP_DEPENDENCIA_ADM_ESC</td>\n",
       "      <td>float64</td>\n",
       "      <td>0.688128</td>\n",
       "      <td>4</td>\n",
       "    </tr>\n",
       "    <tr>\n",
       "      <th>Q024</th>\n",
       "      <td>Q024</td>\n",
       "      <td>object</td>\n",
       "      <td>0.000000</td>\n",
       "      <td>5</td>\n",
       "    </tr>\n",
       "    <tr>\n",
       "      <th>Q047</th>\n",
       "      <td>Q047</td>\n",
       "      <td>object</td>\n",
       "      <td>0.000000</td>\n",
       "      <td>5</td>\n",
       "    </tr>\n",
       "    <tr>\n",
       "      <th>TP_STATUS_REDACAO</th>\n",
       "      <td>TP_STATUS_REDACAO</td>\n",
       "      <td>float64</td>\n",
       "      <td>0.261981</td>\n",
       "      <td>9</td>\n",
       "    </tr>\n",
       "    <tr>\n",
       "      <th>SG_UF_RESIDENCIA</th>\n",
       "      <td>SG_UF_RESIDENCIA</td>\n",
       "      <td>object</td>\n",
       "      <td>0.000000</td>\n",
       "      <td>27</td>\n",
       "    </tr>\n",
       "    <tr>\n",
       "      <th>NU_NOTA_LC</th>\n",
       "      <td>NU_NOTA_LC</td>\n",
       "      <td>float64</td>\n",
       "      <td>0.261981</td>\n",
       "      <td>2774</td>\n",
       "    </tr>\n",
       "    <tr>\n",
       "      <th>NU_NOTA_REDACAO</th>\n",
       "      <td>NU_NOTA_REDACAO</td>\n",
       "      <td>float64</td>\n",
       "      <td>0.261981</td>\n",
       "      <td>53</td>\n",
       "    </tr>\n",
       "    <tr>\n",
       "      <th>Q025</th>\n",
       "      <td>Q025</td>\n",
       "      <td>object</td>\n",
       "      <td>0.000000</td>\n",
       "      <td>2</td>\n",
       "    </tr>\n",
       "    <tr>\n",
       "      <th>IN_TREINEIRO</th>\n",
       "      <td>IN_TREINEIRO</td>\n",
       "      <td>int64</td>\n",
       "      <td>0.000000</td>\n",
       "      <td>2</td>\n",
       "    </tr>\n",
       "  </tbody>\n",
       "</table>\n",
       "</div>"
      ],
      "text/plain": [
       "                                       colunas    tipos  percent_faltante  \\\n",
       "Q001                                      Q001   object          0.000000   \n",
       "TP_PRESENCA_CN                  TP_PRESENCA_CN    int64          0.000000   \n",
       "Q026                                      Q026   object          0.000000   \n",
       "NU_NOTA_COMP1                    NU_NOTA_COMP1  float64          0.261981   \n",
       "Q027                                      Q027   object          0.536999   \n",
       "TP_COR_RACA                        TP_COR_RACA    int64          0.000000   \n",
       "Q006                                      Q006   object          0.000000   \n",
       "NU_IDADE                              NU_IDADE    int64          0.000000   \n",
       "TP_SEXO                                TP_SEXO   object          0.000000   \n",
       "NU_NOTA_CN                          NU_NOTA_CN  float64          0.246832   \n",
       "Q002                                      Q002   object          0.000000   \n",
       "TP_ST_CONCLUSAO                TP_ST_CONCLUSAO    int64          0.000000   \n",
       "TP_NACIONALIDADE              TP_NACIONALIDADE    int64          0.000000   \n",
       "TP_ENSINO                            TP_ENSINO  float64          0.688128   \n",
       "NU_NOTA_COMP4                    NU_NOTA_COMP4  float64          0.261981   \n",
       "NU_NOTA_COMP5                    NU_NOTA_COMP5  float64          0.261981   \n",
       "NU_NOTA_CH                          NU_NOTA_CH  float64          0.246832   \n",
       "NU_NOTA_COMP2                    NU_NOTA_COMP2  float64          0.261981   \n",
       "TP_ANO_CONCLUIU                TP_ANO_CONCLUIU    int64          0.000000   \n",
       "TP_PRESENCA_CH                  TP_PRESENCA_CH    int64          0.000000   \n",
       "TP_ESCOLA                            TP_ESCOLA    int64          0.000000   \n",
       "NU_NOTA_COMP3                    NU_NOTA_COMP3  float64          0.261981   \n",
       "TP_DEPENDENCIA_ADM_ESC  TP_DEPENDENCIA_ADM_ESC  float64          0.688128   \n",
       "Q024                                      Q024   object          0.000000   \n",
       "Q047                                      Q047   object          0.000000   \n",
       "TP_STATUS_REDACAO            TP_STATUS_REDACAO  float64          0.261981   \n",
       "SG_UF_RESIDENCIA              SG_UF_RESIDENCIA   object          0.000000   \n",
       "NU_NOTA_LC                          NU_NOTA_LC  float64          0.261981   \n",
       "NU_NOTA_REDACAO                NU_NOTA_REDACAO  float64          0.261981   \n",
       "Q025                                      Q025   object          0.000000   \n",
       "IN_TREINEIRO                      IN_TREINEIRO    int64          0.000000   \n",
       "\n",
       "                        uniques  \n",
       "Q001                          8  \n",
       "TP_PRESENCA_CN                3  \n",
       "Q026                          3  \n",
       "NU_NOTA_COMP1                15  \n",
       "Q027                         13  \n",
       "TP_COR_RACA                   6  \n",
       "Q006                         17  \n",
       "NU_IDADE                     55  \n",
       "TP_SEXO                       2  \n",
       "NU_NOTA_CN                 2692  \n",
       "Q002                          8  \n",
       "TP_ST_CONCLUSAO               4  \n",
       "TP_NACIONALIDADE              5  \n",
       "TP_ENSINO                     3  \n",
       "NU_NOTA_COMP4                14  \n",
       "NU_NOTA_COMP5                14  \n",
       "NU_NOTA_CH                 2978  \n",
       "NU_NOTA_COMP2                13  \n",
       "TP_ANO_CONCLUIU              11  \n",
       "TP_PRESENCA_CH                3  \n",
       "TP_ESCOLA                     4  \n",
       "NU_NOTA_COMP3                12  \n",
       "TP_DEPENDENCIA_ADM_ESC        4  \n",
       "Q024                          5  \n",
       "Q047                          5  \n",
       "TP_STATUS_REDACAO             9  \n",
       "SG_UF_RESIDENCIA             27  \n",
       "NU_NOTA_LC                 2774  \n",
       "NU_NOTA_REDACAO              53  \n",
       "Q025                          2  \n",
       "IN_TREINEIRO                  2  "
      ]
     },
     "execution_count": 41,
     "metadata": {},
     "output_type": "execute_result"
    }
   ],
   "source": [
    "aux = pd.DataFrame({'colunas': df.columns,\n",
    "                    'tipos': df.dtypes,\n",
    "                    'percent_faltante': df.isna().sum() / df.shape[0],\n",
    "                    'uniques': df.nunique(),\n",
    "                   })\n",
    "\n",
    "aux"
   ]
  },
  {
   "cell_type": "code",
   "execution_count": 42,
   "metadata": {},
   "outputs": [
    {
     "name": "stdout",
     "output_type": "stream",
     "text": [
      "Qte. de colunas valores únicos: (0,)\n",
      "Qte. de colunas com mais de 20% de dados faltantes: (13,)\n",
      "Total colinas à excluir: 13\n"
     ]
    }
   ],
   "source": [
    "unique_values = aux.loc[aux['uniques'] == 1].sort_values(by='uniques').index\n",
    "high_nan_count = aux.loc[aux['percent_faltante'] > 0.20].sort_values(by='percent_faltante').index\n",
    "\n",
    "print('Qte. de colunas valores únicos: {0}'.format(unique_values.shape))\n",
    "print('Qte. de colunas com mais de 20% de dados faltantes: {0}'.format(high_nan_count.shape))\n",
    "\n",
    "\n",
    "columns_to_drop = list(set(high_nan_count) | set(unique_values))\n",
    "print('Total colinas à excluir: {0}'.format(len(columns_to_drop)))\n",
    "\n",
    "df = df.drop(columns_to_drop, axis=1)"
   ]
  },
  {
   "cell_type": "markdown",
   "metadata": {},
   "source": [
    "## Variáveis Categóricas"
   ]
  },
  {
   "cell_type": "code",
   "execution_count": 43,
   "metadata": {},
   "outputs": [
    {
     "name": "stdout",
     "output_type": "stream",
     "text": [
      "<class 'pandas.core.frame.DataFrame'>\n",
      "Int64Index: 13730 entries, 1 to 4586\n",
      "Data columns (total 9 columns):\n",
      " #   Column            Non-Null Count  Dtype \n",
      "---  ------            --------------  ----- \n",
      " 0   Q001              13730 non-null  object\n",
      " 1   Q026              13730 non-null  object\n",
      " 2   Q006              13730 non-null  object\n",
      " 3   TP_SEXO           13730 non-null  object\n",
      " 4   Q002              13730 non-null  object\n",
      " 5   Q024              13730 non-null  object\n",
      " 6   Q047              13730 non-null  object\n",
      " 7   SG_UF_RESIDENCIA  13730 non-null  object\n",
      " 8   Q025              13730 non-null  object\n",
      "dtypes: object(9)\n",
      "memory usage: 1.0+ MB\n"
     ]
    }
   ],
   "source": [
    "variaveis_categoricas = df.select_dtypes(include='object').columns\n",
    "df[variaveis_categoricas].info()"
   ]
  },
  {
   "cell_type": "markdown",
   "metadata": {},
   "source": [
    "## Variáveis Numéricas"
   ]
  },
  {
   "cell_type": "code",
   "execution_count": 47,
   "metadata": {},
   "outputs": [
    {
     "data": {
      "text/plain": [
       "Index(['TP_PRESENCA_CN', 'TP_COR_RACA', 'NU_IDADE', 'TP_ST_CONCLUSAO',\n",
       "       'TP_NACIONALIDADE', 'TP_ANO_CONCLUIU', 'TP_PRESENCA_CH', 'TP_ESCOLA',\n",
       "       'IN_TREINEIRO'],\n",
       "      dtype='object')"
      ]
     },
     "execution_count": 47,
     "metadata": {},
     "output_type": "execute_result"
    }
   ],
   "source": [
    "df.select_dtypes(include='number').columns"
   ]
  },
  {
   "cell_type": "code",
   "execution_count": 48,
   "metadata": {},
   "outputs": [
    {
     "data": {
      "text/plain": [
       "<matplotlib.axes._subplots.AxesSubplot at 0x7fcbfdea9110>"
      ]
     },
     "execution_count": 48,
     "metadata": {},
     "output_type": "execute_result"
    },
    {
     "data": {
      "image/png": "[encoded data removed]",
      "text/plain": [
       "<Figure size 432x288 with 1 Axes>"
      ]
     },
     "metadata": {
      "needs_background": "light"
     },
     "output_type": "display_data"
    }
   ],
   "source": [
    "df['IN_TREINEIRO'].value_counts().plot(kind='bar')"
   ]
  },
  {
   "cell_type": "code",
   "execution_count": 49,
   "metadata": {},
   "outputs": [],
   "source": [
    "smote = SMOTE(sampling_strategy=\"minority\")\n",
    "\n",
    "df = pd.get_dummies(df)\n",
    "\n",
    "X, y = smote.fit_resample(df.iloc[:,:-1], df['IN_TREINEIRO'])"
   ]
  },
  {
   "cell_type": "code",
   "execution_count": 57,
   "metadata": {},
   "outputs": [
    {
     "data": {
      "text/plain": [
       "<matplotlib.axes._subplots.AxesSubplot at 0x7fcbfe1a6150>"
      ]
     },
     "execution_count": 57,
     "metadata": {},
     "output_type": "execute_result"
    },
    {
     "data": {
      "image/png": "[encoded data removed]",
      "text/plain": [
       "<Figure size 432x288 with 1 Axes>"
      ]
     },
     "metadata": {
      "needs_background": "light"
     },
     "output_type": "display_data"
    }
   ],
   "source": [
    "y.value_counts().plot(kind='bar')"
   ]
  },
  {
   "cell_type": "code",
   "execution_count": 60,
   "metadata": {},
   "outputs": [],
   "source": [
    "X = X.drop('IN_TREINEIRO', axis=1)"
   ]
  },
  {
   "cell_type": "markdown",
   "metadata": {},
   "source": [
    "## Transformando os dados"
   ]
  },
  {
   "cell_type": "code",
   "execution_count": 61,
   "metadata": {},
   "outputs": [],
   "source": [
    "minmax = MinMaxScaler()\n",
    "\n",
    "X_pred = df_test\n",
    "X_pred = pd.get_dummies(X_pred)\n",
    "\n",
    "columns = list(set(X.columns) & set(X_pred.columns))\n",
    "\n",
    "X = X[columns]\n",
    "X_pred = X_pred[columns]\n",
    "\n"
   ]
  },
  {
   "cell_type": "code",
   "execution_count": 62,
   "metadata": {},
   "outputs": [],
   "source": [
    "X = minmax.fit_transform(X)\n",
    "X_pred = minmax.transform(X_pred)\n",
    "    \n",
    "X_train, X_test, y_train, y_test = train_test_split(X, y, test_size=0.3, random_state=42)"
   ]
  },
  {
   "cell_type": "code",
   "execution_count": 63,
   "metadata": {},
   "outputs": [
    {
     "data": {
      "text/plain": [
       "RandomForestClassifier()"
      ]
     },
     "execution_count": 63,
     "metadata": {},
     "output_type": "execute_result"
    }
   ],
   "source": [
    "random_forest = RandomForestClassifier(n_estimators=100)\n",
    "random_forest.fit(X_train, y_train)"
   ]
  },
  {
   "cell_type": "markdown",
   "metadata": {},
   "source": [
    "## Prevendo os dados de teste"
   ]
  },
  {
   "cell_type": "code",
   "execution_count": 64,
   "metadata": {},
   "outputs": [],
   "source": [
    "y_pred = random_forest.predict(X_pred)"
   ]
  },
  {
   "cell_type": "code",
   "execution_count": 65,
   "metadata": {},
   "outputs": [],
   "source": [
    "answer = pd.DataFrame({'NU_INSCRICAO': df_test['NU_INSCRICAO'].values, 'IN_TREINEIRO': y_pred})\n",
    "answer.to_csv('answer.csv', encoding='utf-8', index=False)"
   ]
  }
 ],
 "metadata": {
  "kernelspec": {
   "display_name": "Python 3",
   "language": "python",
   "name": "python3"
  },
  "language_info": {
   "codemirror_mode": {
    "name": "ipython",
    "version": 3
   },
   "file_extension": ".py",
   "mimetype": "text/x-python",
   "name": "python",
   "nbconvert_exporter": "python",
   "pygments_lexer": "ipython3",
   "version": "3.7.6"
  }
 },
 "nbformat": 4,
 "nbformat_minor": 4
}
